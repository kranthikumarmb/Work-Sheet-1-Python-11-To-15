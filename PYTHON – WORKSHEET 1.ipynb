{
 "cells": [
  {
   "cell_type": "markdown",
   "id": "6521a628",
   "metadata": {},
   "source": [
    "# Q11 to Q15 are programming questions. Answer them in Jupyter Notebook"
   ]
  },
  {
   "cell_type": "markdown",
   "id": "4f89ff0e",
   "metadata": {},
   "source": [
    "11. Write a python program to find the factorial of a number."
   ]
  },
  {
   "cell_type": "code",
   "execution_count": 3,
   "id": "21e1525f",
   "metadata": {},
   "outputs": [
    {
     "name": "stdout",
     "output_type": "stream",
     "text": [
      "Enter a number: 7\n",
      "Factorial of 7 is 5040\n"
     ]
    }
   ],
   "source": [
    "# Function to find the factorial of a number\n",
    "def factorial(n):\n",
    "    if n == 0:\n",
    "        return 1\n",
    "    else:\n",
    "        return n * factorial(n-1)\n",
    "\n",
    "# Take user input\n",
    "num = int(input(\"Enter a number: \"))\n",
    "\n",
    "# Check if the input is positive\n",
    "if num < 0:\n",
    "    print(\"Factorial is not defined for negative numbers\")\n",
    "elif num == 0:\n",
    "    print(\"Factorial of 0 is 1\")\n",
    "else:\n",
    "    print(f\"Factorial of {num} is {factorial(num)}\")\n"
   ]
  },
  {
   "cell_type": "markdown",
   "id": "d87ef114",
   "metadata": {},
   "source": [
    "12. Write a python program to find whether a number is prime or composite"
   ]
  },
  {
   "cell_type": "code",
   "execution_count": 6,
   "id": "5ae8560c",
   "metadata": {},
   "outputs": [
    {
     "name": "stdout",
     "output_type": "stream",
     "text": [
      "Enter a number: 10\n",
      "10 is a composite number\n"
     ]
    }
   ],
   "source": [
    "# Take user input\n",
    "num = int(input(\"Enter a number: \"))\n",
    "\n",
    "# Check if the number is prime or composite\n",
    "if num > 1:\n",
    "    # Iterate over all possible factors of the number\n",
    "    for i in range(2, num):\n",
    "        # If the number is divisible by a factor, it is composite\n",
    "        if num % i == 0:\n",
    "            print(f\"{num} is a composite number\")\n",
    "            break\n",
    "    else:\n",
    "        # If no factors divide the number, it is prime\n",
    "        print(f\"{num} is a prime number\")\n",
    "else:\n",
    "    # Numbers less than or equal to 1 are neither prime nor composite\n",
    "    print(f\"{num} is neither prime nor composite\")\n"
   ]
  },
  {
   "cell_type": "markdown",
   "id": "d915f4b3",
   "metadata": {},
   "source": [
    "13. Write a python program to check whether a given string is palindrome or not."
   ]
  },
  {
   "cell_type": "code",
   "execution_count": 10,
   "id": "1997eb9c",
   "metadata": {},
   "outputs": [
    {
     "name": "stdout",
     "output_type": "stream",
     "text": [
      "Enter a string: malayalam\n",
      "malayalam is a palindrome\n"
     ]
    }
   ],
   "source": [
    "# Take user input\n",
    "string = input(\"Enter a string: \")\n",
    "\n",
    "# Convert the string to lowercase and remove spaces\n",
    "string = string.lower().replace(\" \", \"\")\n",
    "\n",
    "# Check if the string is a palindrome\n",
    "if string == string[::-1]:\n",
    "    print(f\"{string} is a palindrome\")\n",
    "else:\n",
    "    print(f\"{string} is not a palindrome\")\n"
   ]
  },
  {
   "cell_type": "markdown",
   "id": "f48a7165",
   "metadata": {},
   "source": [
    "14. Write a Python program to get the third side of right-angled triangle from two given sides."
   ]
  },
  {
   "cell_type": "code",
   "execution_count": 12,
   "id": "4c7d1025",
   "metadata": {},
   "outputs": [
    {
     "name": "stdout",
     "output_type": "stream",
     "text": [
      "13.0\n"
     ]
    }
   ],
   "source": [
    "def find_third_side(a, b):\n",
    "    # Use the Pythagorean theorem to find the length of the hypotenuse\n",
    "    # of the right-angled triangle.\n",
    "    c = (a**2 + b**2)**0.5\n",
    "    return c\n",
    "\n",
    "# Example usage:\n",
    "# Find the length of the hypotenuse of a right-angled triangle with\n",
    "# side lengths of 5 and 12.\n",
    "hypotenuse = find_third_side(5, 12)\n",
    "print(hypotenuse)\n"
   ]
  },
  {
   "cell_type": "markdown",
   "id": "5dddbd7a",
   "metadata": {},
   "source": [
    "15. Write a python program to print the frequency of each of the characters present in a given string"
   ]
  },
  {
   "cell_type": "code",
   "execution_count": 13,
   "id": "2ba963db",
   "metadata": {},
   "outputs": [
    {
     "name": "stdout",
     "output_type": "stream",
     "text": [
      "h: 1\n",
      "e: 1\n",
      "l: 3\n",
      "o: 2\n",
      ",: 1\n",
      " : 1\n",
      "w: 1\n",
      "r: 1\n",
      "d: 1\n",
      "!: 1\n"
     ]
    }
   ],
   "source": [
    "def char_frequency(string):\n",
    "    # Create an empty dictionary to store the frequency of each character.\n",
    "    freq = {}\n",
    "\n",
    "    # Iterate over each character in the string.\n",
    "    for char in string:\n",
    "        # If the character is already in the dictionary, increment its count.\n",
    "        # Otherwise, add it to the dictionary with a count of 1.\n",
    "        if char in freq:\n",
    "            freq[char] += 1\n",
    "        else:\n",
    "            freq[char] = 1\n",
    "\n",
    "    # Print the frequency of each character.\n",
    "    for char, count in freq.items():\n",
    "        print(f\"{char}: {count}\")\n",
    "\n",
    "# Example usage:\n",
    "# Print the frequency of each character in the string \"hello, world!\".\n",
    "char_frequency(\"hello, world!\")\n"
   ]
  },
  {
   "cell_type": "code",
   "execution_count": null,
   "id": "437b8683",
   "metadata": {},
   "outputs": [],
   "source": []
  }
 ],
 "metadata": {
  "kernelspec": {
   "display_name": "Python 3 (ipykernel)",
   "language": "python",
   "name": "python3"
  },
  "language_info": {
   "codemirror_mode": {
    "name": "ipython",
    "version": 3
   },
   "file_extension": ".py",
   "mimetype": "text/x-python",
   "name": "python",
   "nbconvert_exporter": "python",
   "pygments_lexer": "ipython3",
   "version": "3.9.13"
  }
 },
 "nbformat": 4,
 "nbformat_minor": 5
}
